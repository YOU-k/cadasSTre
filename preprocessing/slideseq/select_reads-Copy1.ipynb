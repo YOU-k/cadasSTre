{
 "cells": [
  {
   "cell_type": "code",
   "execution_count": 1,
   "id": "8aee16d9-0fce-40c6-aa39-5d0e7e03d8e4",
   "metadata": {
    "tags": []
   },
   "outputs": [],
   "source": [
    "import pandas as pd\n",
    "import os\n",
    "# Your BAM file path\n",
    "bam_file = \"Puck_190926_03.bam\""
   ]
  },
  {
   "cell_type": "code",
   "execution_count": 4,
   "id": "34ccd966-0e8f-4744-9d8e-576962f4637e",
   "metadata": {},
   "outputs": [],
   "source": [
    "def get_tags_from_bam(bamfile_path, gene_tag, UMI_tag,sub_props):\n",
    "    # List to store tags\n",
    "    gene_count_dict = {sub_prop: {} for sub_prop in sub_props}\n",
    "    res_cnt = {sub_prop: Counter() for sub_prop in sub_props}\n",
    "    # Open the BAM file\n",
    "    idx = 0\n",
    "    with pysam.AlignmentFile(bamfile_path, \"rb\",require_index=False) as bamfile:\n",
    "        # Iterate over each read\n",
    "        for read in bamfile:\n",
    "            idx += 1\n",
    "            gene = read.get_tag(gene_tag) if read.has_tag(gene_tag) else None\n",
    "            bc=read.get_tag(\"BC\") if read.has_tag(gene_tag) else None\n",
    "            UMI = read.get_tag('XM') if read.has_tag('XM') else None\n",
    "            for sub_prop in sub_props:\n",
    "                random_num = random.randint(0, 99)\n",
    "                if random_num < sub_prop * 100:\n",
    "                    # Check if the tag is present in the read\n",
    "                    if (gene is not None) and (bc is not None) and (UMI is not None):\n",
    "                        # Add the tag value to the list\n",
    "                        if gene not in gene_count_dict[sub_prop]:\n",
    "                            gene_count_dict[sub_prop][gene] = {}\n",
    "                        gene_count_dict[sub_prop][gene].setdefault(bc, set()).add(UMI)\n",
    "                        res_cnt[sub_prop][\"transcriptomic\"] += 1 \n",
    "                    \n",
    "            if idx % 1000000 ==0:\n",
    "                print(f\"Total reads processed: {idx}\")\n",
    "                print(res_cnt[sub_prop])\n",
    "            #if idx == 1000000:\n",
    "             #   break\n",
    "        for sub_prop in sub_props:\n",
    "            for gene in gene_count_dict[sub_prop]:\n",
    "                gene_count_dict[sub_prop][gene] = {bc: len(gene_count_dict[sub_prop][gene][bc]) for bc in gene_count_dict[sub_prop][gene]}\n",
    "\n",
    "    return gene_count_dict,res_cnt\n"
   ]
  },
  {
   "cell_type": "code",
   "execution_count": null,
   "id": "4436dca0",
   "metadata": {},
   "outputs": [],
   "source": [
    "def write_mtx(gene_count_dict, out_dir):\n",
    "    \"\"\"\n",
    "    gene_count_dict: dict in dict {gene_id: {barcode: UMI_count}, ... }\n",
    "    \"\"\"\n",
    "    gene_list = []  # Create an empty list to store gene IDs\n",
    "    bc_list = []    # Create an empty list to store barcode IDs\n",
    "    \n",
    "    # Iterate through the gene_count_dict to collect gene and barcode IDs\n",
    "    for ge in gene_count_dict:\n",
    "        gene_list.append(ge)\n",
    "        for bc in gene_count_dict[ge]:\n",
    "            bc_list.append(bc)\n",
    "    \n",
    "    total_cnt = len(bc_list)  # Calculate the total number of unique barcodes\n",
    "    \n",
    "    # Remove duplicate barcodes by converting the list to a set and back to a list\n",
    "    bc_list = list(set(bc_list))\n",
    "    \n",
    "    # Create a dictionary to map gene IDs to their index (1-based indexing)\n",
    "    probe_dict = dict([(pid, ix + 1) for ix, pid in enumerate(gene_list)])  # 1-based indexing\n",
    "    \n",
    "    # Create a dictionary to map barcode IDs to their index (1-based indexing)\n",
    "    bc_dict = dict([(bc, ix + 1) for ix, bc in enumerate(bc_list)])  # 1-based indexing\n",
    "    \n",
    "    # Open and write the gene features file\n",
    "    out_feature = gzip.open(os.path.join(out_dir, \"digital_expression_features.tsv.gz\"), \"wb\")\n",
    "    for ge in gene_list:\n",
    "        out_feature.write(ge.encode('utf-8') + b'\\n')  # Write gene IDs to the file\n",
    "    out_feature.close()  # Close the gene features file\n",
    "    \n",
    "    # Open and write the barcode file\n",
    "    out_barcode = gzip.open(os.path.join(out_dir, \"digital_expression_barcodes.tsv.gz\"), \"wb\")\n",
    "    for bc in bc_list:\n",
    "        out_barcode.write(bytes(bc + '\\n', \"UTF-8\"))  # Write barcode IDs to the file\n",
    "    out_barcode.close()  # Close the barcode file\n",
    "    \n",
    "    # Open and write the matrix file in MatrixMarket format\n",
    "    out_mtx = gzip.open(os.path.join(out_dir, \"digital_expression_matrix.mtx.gz\"), \"wb\")\n",
    "    out_mtx.write(b'%%MatrixMarket matrix coordinate integer general\\n%\\n')  # Write MatrixMarket headers\n",
    "    out_mtx.write(bytes(\"{}\\t{}\\t{}\\n\".format(len(gene_list), len(bc_list), total_cnt), \"UTF-8\" ))  # Write matrix dimensions\n",
    "    for ge in gene_list:  # Iterate over genes\n",
    "        for bc in gene_count_dict[ge]:  # Iterate over barcodes for each gene\n",
    "            out_mtx.write(bytes(\"{}\\t{}\\t{}\\n\".format(probe_dict[ge], bc_dict[bc], gene_count_dict[ge][bc]), \"UTF-8\"))  # Write matrix data\n",
    "    out_mtx.close()  # Close the matrix file"
   ]
  },
  {
   "cell_type": "code",
   "execution_count": 15,
   "id": "ba90d2cb-c746-4a45-a551-e7d64b9d08f8",
   "metadata": {
    "tags": []
   },
   "outputs": [
    {
     "name": "stderr",
     "output_type": "stream",
     "text": [
      "[E::idx_find_and_load] Could not retrieve index file for 'Puck_200115_08_hippo_clean.bam'\n"
     ]
    },
    {
     "name": "stdout",
     "output_type": "stream",
     "text": [
      "Total reads processed: 1000000\n",
      "Counter({'transcriptomic': 878928})\n",
      "Total reads processed: 2000000\n",
      "Counter({'transcriptomic': 1736561})\n",
      "Total reads processed: 3000000\n",
      "Counter({'transcriptomic': 2521900})\n",
      "Total reads processed: 4000000\n",
      "Counter({'transcriptomic': 3390483})\n",
      "Total reads processed: 5000000\n",
      "Counter({'transcriptomic': 4239926})\n",
      "Total reads processed: 6000000\n",
      "Counter({'transcriptomic': 4986121})\n",
      "Total reads processed: 7000000\n",
      "Counter({'transcriptomic': 4986121})\n"
     ]
    }
   ],
   "source": [
    "from collections import Counter\n",
    "import gzip\n",
    "import os\n",
    "import random\n",
    "import pysam\n",
    "if __name__ == \"__main__\":\n",
    "    gene_tag = \"XG\"\n",
    "    UMI_tag = \"XM\"\n",
    "    bamfile_path = \"Puck_200115_08_hippo_clean.bam\"  # replace with your bam file path\n",
    "    gene_count_dict,res_cnt = get_tags_from_bam(bamfile_path, gene_tag, UMI_tag, sub_props)"
   ]
  },
  {
   "cell_type": "code",
   "execution_count": 16,
   "id": "7dc62888-45ea-43c2-bb37-e1ab318114c1",
   "metadata": {
    "tags": []
   },
   "outputs": [
    {
     "name": "stdout",
     "output_type": "stream",
     "text": [
      "['ATGTAACCCCTTAG', 'ATATGCCGCGATAG', 'CCTGAGGAAGCGAT', 'TATGTTTCTAGCTT', 'GTTCAGCCTAATAG', 'TCCTGGAGATACGC', 'AACCCCGTCATCAT', 'AGGGGCCGTTCTAG', 'AACTTACGAATCCG', 'GGATAGCAAGTTTA']\n",
      "['9230019H11Rik', 'H60c', 'Gm26752', 'Gm26752,Ppp1r14c', 'Ppp1r14c', 'Iyd', 'Plekhg1', 'Plekhg1,Mthfd1l', 'Mthfd1l', 'Akap12']\n"
     ]
    }
   ],
   "source": [
    "for prop in sub_props:\n",
    "    out_dir = f\"./output/{prop}\"\n",
    "    if not os.path.exists(out_dir):\n",
    "        os.makedirs(out_dir)\n",
    "    write_mtx(gene_count_dict[prop],out_dir)"
   ]
  }
 ],
 "metadata": {
  "kernelspec": {
   "display_name": "Python 3 (ipykernel)",
   "language": "python",
   "name": "python3"
  },
  "language_info": {
   "codemirror_mode": {
    "name": "ipython",
    "version": 3
   },
   "file_extension": ".py",
   "mimetype": "text/x-python",
   "name": "python",
   "nbconvert_exporter": "python",
   "pygments_lexer": "ipython3",
   "version": "3.9.6"
  }
 },
 "nbformat": 4,
 "nbformat_minor": 5
}
